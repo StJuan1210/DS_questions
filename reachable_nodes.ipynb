{
 "cells": [
  {
   "attachments": {},
   "cell_type": "markdown",
   "metadata": {},
   "source": [
    "# Reachable Nodes"
   ]
  },
  {
   "cell_type": "code",
   "execution_count": 65,
   "metadata": {},
   "outputs": [],
   "source": [
    "def reachable(adj_list,start_node):\n",
    "    # Find reachable nodes from adjacency list of a graph\n",
    "    visited = set()\n",
    "    if start_node > len(adj_list)-1:\n",
    "        return visited\n",
    "    if not adj_list:\n",
    "        return visited\n",
    "    else:\n",
    "        visited1 = dfs(visited,adj_list,start_node)\n",
    "        return visited1\n",
    "\n",
    "\n",
    "def dfs(visited, graph, node):  \n",
    "    # depth first search algorithm\n",
    "    \n",
    "    if node not in visited:\n",
    "        visited.add(node)\n",
    "        for neighbour in graph[node]:\n",
    "            dfs(visited, graph, neighbour)\n",
    "    return visited\n"
   ]
  },
  {
   "cell_type": "code",
   "execution_count": 66,
   "metadata": {},
   "outputs": [
    {
     "name": "stdout",
     "output_type": "stream",
     "text": [
      "{3, 4}\n"
     ]
    }
   ],
   "source": [
    "adj_list1 = [[1, 3], [2], [0], [4], [3], []]\n",
    "print(reachable(adj_list1,3))"
   ]
  },
  {
   "attachments": {},
   "cell_type": "markdown",
   "metadata": {},
   "source": [
    "### Some Examples"
   ]
  },
  {
   "cell_type": "code",
   "execution_count": 67,
   "metadata": {},
   "outputs": [
    {
     "name": "stdout",
     "output_type": "stream",
     "text": [
      "{0, 1, 2, 3}\n"
     ]
    }
   ],
   "source": [
    "adj_list1 = [[1, 2], [0, 2], [0, 1, 3], [2], []]\n",
    "print(reachable(adj_list1,1))"
   ]
  },
  {
   "cell_type": "code",
   "execution_count": 68,
   "metadata": {},
   "outputs": [
    {
     "name": "stdout",
     "output_type": "stream",
     "text": [
      "{5}\n"
     ]
    }
   ],
   "source": [
    "adj_list1 = [[1, 4], [0, 2, 3, 4], [1, 3], [1, 2, 4], [0, 1, 3, 5],[]]\n",
    "print(reachable(adj_list1,5))"
   ]
  },
  {
   "attachments": {},
   "cell_type": "markdown",
   "metadata": {},
   "source": [
    "## Unit Tests"
   ]
  },
  {
   "cell_type": "code",
   "execution_count": 72,
   "metadata": {},
   "outputs": [
    {
     "name": "stdout",
     "output_type": "stream",
     "text": [
      "set()\n",
      "{0}\n",
      "{0, 1, 2}\n",
      "{0, 1, 2, 3}\n",
      "{0}\n",
      "set()\n"
     ]
    }
   ],
   "source": [
    "# Test case 1: Empty adjacency list\n",
    "adj_list = []\n",
    "result = reachable(adj_list, 0)\n",
    "print(result) # empty\n",
    "\n",
    "# Test case 2: Single-node adjacency list\n",
    "adj_list = [[]]\n",
    "result = reachable(adj_list, 0)\n",
    "print(result) # {0}\n",
    "\n",
    "\n",
    "# Test case 3: Disconnected nodes in adjacency list\n",
    "adj_list = [[1, 2],[],[],[4, 5],[]]\n",
    "result = reachable(adj_list, 0)\n",
    "print(result) # {0, 1, 2}\n",
    "\n",
    "\n",
    "# Test case 4: Adjacency list with cycles\n",
    "adj_list = [[1],[2],[0, 3],[]]\n",
    "result = reachable(adj_list, 0)\n",
    "print(result) # {0, 1, 2, 3}\n",
    "\n",
    "\n",
    "# Test case 5: No nodes reachable from start_node in adjacency list\n",
    "adj_list = [[],[],[]]\n",
    "result = reachable(adj_list, 0)\n",
    "print(result) # {0}\n",
    "\n",
    "\n",
    "# Test case 6: Start node not in adjacency list\n",
    "adj_list = [[1, 2],[],[],[4, 5],[]]\n",
    "result = reachable(adj_list, 5)\n",
    "print(result) # empty\n"
   ]
  }
 ],
 "metadata": {
  "kernelspec": {
   "display_name": "Python 3",
   "language": "python",
   "name": "python3"
  },
  "language_info": {
   "codemirror_mode": {
    "name": "ipython",
    "version": 3
   },
   "file_extension": ".py",
   "mimetype": "text/x-python",
   "name": "python",
   "nbconvert_exporter": "python",
   "pygments_lexer": "ipython3",
   "version": "3.10.9"
  },
  "orig_nbformat": 4
 },
 "nbformat": 4,
 "nbformat_minor": 2
}
