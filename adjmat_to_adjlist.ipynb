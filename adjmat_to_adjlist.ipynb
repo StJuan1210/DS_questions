{
 "cells": [
  {
   "attachments": {},
   "cell_type": "markdown",
   "metadata": {},
   "source": [
    "# Adjacency Matrix to Adjacency List"
   ]
  },
  {
   "cell_type": "code",
   "execution_count": 12,
   "metadata": {},
   "outputs": [
    {
     "name": "stdout",
     "output_type": "stream",
     "text": [
      "Adjacency List: [[1, 3], [2], [0], [4], [3], []]\n"
     ]
    }
   ],
   "source": [
    "def mat_to_list(adj_mat1):\n",
    "    alist = []\n",
    "    for i in range(len(adj_mat1)):\n",
    "        templist = []\n",
    "        for j in range(len(adj_mat1[i])):\n",
    "            if adj_mat1[i][j] != 0:\n",
    "                templist.append(j)\n",
    "        alist.append(templist)\n",
    "                        \n",
    "    return alist\n",
    "## Example from question\n",
    "adj_mat = [[0, 1, 0, 1, 0, 0],\n",
    "           [0, 0, 1, 0, 0, 0],\n",
    "           [1, 0, 0, 0, 0, 0],\n",
    "           [0, 0, 0, 0, 1, 0],\n",
    "           [0, 0, 0, 1, 0, 0],\n",
    "           [0, 0, 0, 0, 0, 0]]\n",
    "adj_list = mat_to_list(adj_mat)\n",
    "print(\"Adjacency List:\" , adj_list)\n"
   ]
  },
  {
   "attachments": {},
   "cell_type": "markdown",
   "metadata": {},
   "source": [
    "### Some examples"
   ]
  },
  {
   "cell_type": "code",
   "execution_count": 16,
   "metadata": {},
   "outputs": [
    {
     "name": "stdout",
     "output_type": "stream",
     "text": [
      "Adjacency List: [[1, 2], [0, 2], [0, 1, 3], [2], []]\n"
     ]
    }
   ],
   "source": [
    "adj_mat = [[0, 1, 1, 0, 0], \n",
    "           [1, 0, 1, 0, 0], \n",
    "           [1, 1, 0, 1, 0], \n",
    "           [0, 0, 1, 0, 0], \n",
    "           [0, 0, 0, 0, 0]]\n",
    "adj_list = mat_to_list(adj_mat)\n",
    "print(\"Adjacency List:\" , adj_list)"
   ]
  },
  {
   "cell_type": "code",
   "execution_count": 17,
   "metadata": {},
   "outputs": [
    {
     "name": "stdout",
     "output_type": "stream",
     "text": [
      "Adjacency List: [[1, 4], [0, 2, 3, 4], [1, 3], [1, 2, 4], [0, 1, 3]]\n"
     ]
    }
   ],
   "source": [
    "adj_mat = [[0, 1, 0, 0, 1],\n",
    "           [1, 0, 1, 1, 1],\n",
    "           [0, 1, 0, 1, 0],\n",
    "           [0, 1, 1, 0, 1],\n",
    "           [1, 1, 0, 1, 0]]\n",
    "adj_list = mat_to_list(adj_mat)\n",
    "print(\"Adjacency List:\" , adj_list)"
   ]
  }
 ],
 "metadata": {
  "kernelspec": {
   "display_name": "Python 3",
   "language": "python",
   "name": "python3"
  },
  "language_info": {
   "codemirror_mode": {
    "name": "ipython",
    "version": 3
   },
   "file_extension": ".py",
   "mimetype": "text/x-python",
   "name": "python",
   "nbconvert_exporter": "python",
   "pygments_lexer": "ipython3",
   "version": "3.10.9"
  },
  "orig_nbformat": 4
 },
 "nbformat": 4,
 "nbformat_minor": 2
}
