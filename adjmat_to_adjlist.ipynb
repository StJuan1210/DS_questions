{
 "cells": [
  {
   "attachments": {},
   "cell_type": "markdown",
   "metadata": {},
   "source": [
    "# Adjacency Matrix to Adjacency List"
   ]
  },
  {
   "attachments": {},
   "cell_type": "markdown",
   "metadata": {},
   "source": [
    "### List approach"
   ]
  },
  {
   "cell_type": "code",
   "execution_count": 2,
   "metadata": {},
   "outputs": [
    {
     "name": "stdout",
     "output_type": "stream",
     "text": [
      "Adjacency List: [[1, 3], [2], [0], [4], [3], []]\n"
     ]
    }
   ],
   "source": [
    "def mat_to_list(adj_mat1):\n",
    "    #convert adjacent matrix of a graph to adjacent list\n",
    "    alist = []\n",
    "    for i in range(len(adj_mat1)):\n",
    "        templist = []\n",
    "        for j in range(len(adj_mat1[i])):\n",
    "            if adj_mat1[i][j] != 0:\n",
    "                templist.append(j)\n",
    "        alist.append(templist)\n",
    "                        \n",
    "    return alist\n",
    "## Example from question\n",
    "adj_mat = [[0, 1, 0, 1, 0, 0],\n",
    "           [0, 0, 1, 0, 0, 0],\n",
    "           [1, 0, 0, 0, 0, 0],\n",
    "           [0, 0, 0, 0, 1, 0],\n",
    "           [0, 0, 0, 1, 0, 0],\n",
    "           [0, 0, 0, 0, 0, 0]]\n",
    "adj_list = mat_to_list(adj_mat)\n",
    "print(\"Adjacency List:\" , adj_list)\n"
   ]
  },
  {
   "attachments": {},
   "cell_type": "markdown",
   "metadata": {},
   "source": [
    "### Dictionary Approach"
   ]
  },
  {
   "cell_type": "code",
   "execution_count": 16,
   "metadata": {},
   "outputs": [
    {
     "name": "stdout",
     "output_type": "stream",
     "text": [
      "Adjacency List: \n",
      "\n",
      "1--->[1, 3]\n",
      "2--->[2]\n",
      "3--->[0]\n",
      "4--->[4]\n",
      "5--->[3]\n",
      "6--->[]\n"
     ]
    }
   ],
   "source": [
    "def mat_to_list1(adj_mat1):\n",
    "    adjdict = {my_list: [] for my_list in range(1,len(adj_mat1))}\n",
    "    for i in range(len(adj_mat1)):\n",
    "        templist = []\n",
    "        for j in range(len(adj_mat1[i])):\n",
    "            if adj_mat1[i][j] != 0:\n",
    "                templist.append(j)\n",
    "        adjdict[i+1] = templist\n",
    "                        \n",
    "    return adjdict\n",
    "## Example from question\n",
    "adj_mat = [[0, 1, 0, 1, 0, 0],\n",
    "           [0, 0, 1, 0, 0, 0],\n",
    "           [1, 0, 0, 0, 0, 0],\n",
    "           [0, 0, 0, 0, 1, 0],\n",
    "           [0, 0, 0, 1, 0, 0],\n",
    "           [0, 0, 0, 0, 0, 0]]\n",
    "adj_list = mat_to_list1(adj_mat)\n",
    "print(\"Adjacency List: \\n\")\n",
    "print(\"\\n\".join(\"{}--->{}\".format(k, v) for k, v in adj_list.items()))\n"
   ]
  },
  {
   "attachments": {},
   "cell_type": "markdown",
   "metadata": {},
   "source": [
    "### Some examples"
   ]
  },
  {
   "cell_type": "code",
   "execution_count": 16,
   "metadata": {},
   "outputs": [
    {
     "name": "stdout",
     "output_type": "stream",
     "text": [
      "Adjacency List: [[1, 2], [0, 2], [0, 1, 3], [2], []]\n"
     ]
    }
   ],
   "source": [
    "adj_mat = [\n",
    "    [0, 1, 1, 0, 0], \n",
    "    [1, 0, 1, 0, 0], \n",
    "    [1, 1, 0, 1, 0], \n",
    "    [0, 0, 1, 0, 0], \n",
    "    [0, 0, 0, 0, 0]\n",
    "]\n",
    "adj_list = mat_to_list(adj_mat)\n",
    "print(\"Adjacency List:\" , adj_list)"
   ]
  },
  {
   "cell_type": "code",
   "execution_count": 18,
   "metadata": {},
   "outputs": [
    {
     "name": "stdout",
     "output_type": "stream",
     "text": [
      "Adjacency List: \n",
      "\n",
      "1--->[1, 4]\n",
      "2--->[0, 2, 3, 4]\n",
      "3--->[1, 3]\n",
      "4--->[1, 2, 4]\n",
      "5--->[0, 1, 3]\n"
     ]
    }
   ],
   "source": [
    "adj_mat = [\n",
    "    [0, 1, 0, 0, 1],\n",
    "    [1, 0, 1, 1, 1],\n",
    "    [0, 1, 0, 1, 0],\n",
    "    [0, 1, 1, 0, 1],\n",
    "    [1, 1, 0, 1, 0]\n",
    "]\n",
    "adj_list = mat_to_list1(adj_mat)\n",
    "print(\"Adjacency List: \\n\")\n",
    "print(\"\\n\".join(\"{}--->{}\".format(k, v) for k, v in adj_list.items()))"
   ]
  },
  {
   "attachments": {},
   "cell_type": "markdown",
   "metadata": {},
   "source": [
    "## Unit Tests"
   ]
  },
  {
   "cell_type": "code",
   "execution_count": 5,
   "metadata": {},
   "outputs": [
    {
     "name": "stdout",
     "output_type": "stream",
     "text": [
      "[]\n",
      "[[], [], []]\n",
      "[[0], [1], [2]]\n"
     ]
    }
   ],
   "source": [
    "# Test case 1: Empty adjacency matrix\n",
    "adj_mat1 = []\n",
    "result = mat_to_list(adj_mat1)\n",
    "print(result) #empty\n",
    "\n",
    "\n",
    "# Test case 2: Square adjacency matrix with no edges\n",
    "adj_mat1 = [\n",
    "    [0, 0, 0],\n",
    "    [0, 0, 0],\n",
    "    [0, 0, 0]\n",
    "]\n",
    "result = mat_to_list(adj_mat1)\n",
    "print(result) #[[],[],[]]\n",
    "\n",
    "\n",
    "# Test case 3: Adjacency matrix with self-loops\n",
    "adj_mat1 = [\n",
    "    [1, 0, 0],\n",
    "    [0, 1, 0],\n",
    "    [0, 0, 1]\n",
    "]\n",
    "result = mat_to_list(adj_mat1)\n",
    "print(result) #[[0],[1],[2]]"
   ]
  }
 ],
 "metadata": {
  "kernelspec": {
   "display_name": "Python 3",
   "language": "python",
   "name": "python3"
  },
  "language_info": {
   "codemirror_mode": {
    "name": "ipython",
    "version": 3
   },
   "file_extension": ".py",
   "mimetype": "text/x-python",
   "name": "python",
   "nbconvert_exporter": "python",
   "pygments_lexer": "ipython3",
   "version": "3.10.9"
  },
  "orig_nbformat": 4
 },
 "nbformat": 4,
 "nbformat_minor": 2
}
